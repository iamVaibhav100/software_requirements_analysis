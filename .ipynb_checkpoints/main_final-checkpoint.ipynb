{
 "cells": [
  {
   "cell_type": "markdown",
   "id": "651f476c",
   "metadata": {},
   "source": [
    "## Classification of functional and non-functional software requirements using the followig algorithms:\n",
    "    1. Logistic Regression\n",
    "    2. Support Vector Machine\n",
    "    3. Decision Tree\n",
    "    4. Random Forest"
   ]
  },
  {
   "cell_type": "markdown",
   "id": "6b962801",
   "metadata": {},
   "source": [
    "#### Importing modules"
   ]
  },
  {
   "cell_type": "code",
   "execution_count": 1,
   "id": "ef71397b",
   "metadata": {},
   "outputs": [],
   "source": [
    "import csv\n",
    "import pandas as pd\n",
    "import numpy as np\n",
    "from sklearn import svm\n",
    "from sklearn.linear_model import LogisticRegression\n",
    "from sklearn import tree\n",
    "from sklearn.ensemble import RandomForestClassifier\n",
    "from sklearn.model_selection import train_test_split\n",
    "from sklearn.feature_extraction.text import CountVectorizer\n",
    "from sklearn.feature_extraction.text import TfidfTransformer"
   ]
  },
  {
   "cell_type": "markdown",
   "id": "e04e5864",
   "metadata": {},
   "source": [
    "#### Read the CSV file and drop any columns with missing values"
   ]
  },
  {
   "cell_type": "code",
   "execution_count": 2,
   "id": "dac5d437",
   "metadata": {},
   "outputs": [
    {
     "data": {
      "text/html": [
       "<div>\n",
       "<style scoped>\n",
       "    .dataframe tbody tr th:only-of-type {\n",
       "        vertical-align: middle;\n",
       "    }\n",
       "\n",
       "    .dataframe tbody tr th {\n",
       "        vertical-align: top;\n",
       "    }\n",
       "\n",
       "    .dataframe thead th {\n",
       "        text-align: right;\n",
       "    }\n",
       "</style>\n",
       "<table border=\"1\" class=\"dataframe\">\n",
       "  <thead>\n",
       "    <tr style=\"text-align: right;\">\n",
       "      <th></th>\n",
       "      <th>Type</th>\n",
       "      <th>Requirement</th>\n",
       "    </tr>\n",
       "  </thead>\n",
       "  <tbody>\n",
       "    <tr>\n",
       "      <th>972</th>\n",
       "      <td>FR</td>\n",
       "      <td>There will be a designated phone number that u...</td>\n",
       "    </tr>\n",
       "    <tr>\n",
       "      <th>973</th>\n",
       "      <td>FR</td>\n",
       "      <td>Texts sent to that number will be sent to the ...</td>\n",
       "    </tr>\n",
       "    <tr>\n",
       "      <th>974</th>\n",
       "      <td>FR</td>\n",
       "      <td>If a question is not understood by our API, th...</td>\n",
       "    </tr>\n",
       "    <tr>\n",
       "      <th>975</th>\n",
       "      <td>FR</td>\n",
       "      <td>Upon the USB being plugged in the system shall...</td>\n",
       "    </tr>\n",
       "    <tr>\n",
       "      <th>976</th>\n",
       "      <td>FR</td>\n",
       "      <td>The system shall be able to handle 1000 custom...</td>\n",
       "    </tr>\n",
       "  </tbody>\n",
       "</table>\n",
       "</div>"
      ],
      "text/plain": [
       "    Type                                        Requirement\n",
       "972   FR  There will be a designated phone number that u...\n",
       "973   FR  Texts sent to that number will be sent to the ...\n",
       "974   FR  If a question is not understood by our API, th...\n",
       "975   FR  Upon the USB being plugged in the system shall...\n",
       "976   FR  The system shall be able to handle 1000 custom..."
      ]
     },
     "execution_count": 2,
     "metadata": {},
     "output_type": "execute_result"
    }
   ],
   "source": [
    "df = pd.read_csv(\"extended.csv\")\n",
    "df = df.dropna(axis=1, how='any')\n",
    "df.tail()"
   ]
  },
  {
   "cell_type": "markdown",
   "id": "dcdb8453",
   "metadata": {},
   "source": [
    "#### Create a new column called 'Tag' that has a value of 1 for 'F' and 'FR' in the 'Type' column and 0 otherwise"
   ]
  },
  {
   "cell_type": "code",
   "execution_count": 3,
   "id": "4b1b17e4",
   "metadata": {},
   "outputs": [
    {
     "data": {
      "text/html": [
       "<div>\n",
       "<style scoped>\n",
       "    .dataframe tbody tr th:only-of-type {\n",
       "        vertical-align: middle;\n",
       "    }\n",
       "\n",
       "    .dataframe tbody tr th {\n",
       "        vertical-align: top;\n",
       "    }\n",
       "\n",
       "    .dataframe thead th {\n",
       "        text-align: right;\n",
       "    }\n",
       "</style>\n",
       "<table border=\"1\" class=\"dataframe\">\n",
       "  <thead>\n",
       "    <tr style=\"text-align: right;\">\n",
       "      <th></th>\n",
       "      <th>Type</th>\n",
       "      <th>Requirement</th>\n",
       "      <th>Tag</th>\n",
       "    </tr>\n",
       "  </thead>\n",
       "  <tbody>\n",
       "    <tr>\n",
       "      <th>0</th>\n",
       "      <td>PE</td>\n",
       "      <td>The system shall refresh the display every 60 ...</td>\n",
       "      <td>0</td>\n",
       "    </tr>\n",
       "    <tr>\n",
       "      <th>1</th>\n",
       "      <td>LF</td>\n",
       "      <td>The application shall match the color of the s...</td>\n",
       "      <td>0</td>\n",
       "    </tr>\n",
       "    <tr>\n",
       "      <th>2</th>\n",
       "      <td>US</td>\n",
       "      <td>If projected  the data must be readable.  On ...</td>\n",
       "      <td>0</td>\n",
       "    </tr>\n",
       "    <tr>\n",
       "      <th>3</th>\n",
       "      <td>A</td>\n",
       "      <td>The product shall be available during normal ...</td>\n",
       "      <td>0</td>\n",
       "    </tr>\n",
       "    <tr>\n",
       "      <th>4</th>\n",
       "      <td>US</td>\n",
       "      <td>If projected  the data must be understandable...</td>\n",
       "      <td>0</td>\n",
       "    </tr>\n",
       "  </tbody>\n",
       "</table>\n",
       "</div>"
      ],
      "text/plain": [
       "  Type                                        Requirement  Tag\n",
       "0   PE  The system shall refresh the display every 60 ...    0\n",
       "1   LF  The application shall match the color of the s...    0\n",
       "2   US   If projected  the data must be readable.  On ...    0\n",
       "3    A   The product shall be available during normal ...    0\n",
       "4   US   If projected  the data must be understandable...    0"
      ]
     },
     "execution_count": 3,
     "metadata": {},
     "output_type": "execute_result"
    }
   ],
   "source": [
    "df[\"Tag\"] = df.apply(lambda x: 1 if x[\"Type\"] in ['F', 'FR'] else 0, axis=1)\n",
    "df.head()"
   ]
  },
  {
   "cell_type": "markdown",
   "id": "8f1fa047",
   "metadata": {},
   "source": [
    "#### Split the data into training and test sets"
   ]
  },
  {
   "cell_type": "code",
   "execution_count": 4,
   "id": "8a950409",
   "metadata": {},
   "outputs": [],
   "source": [
    "X = df[\"Requirement\"]\n",
    "y = df[\"Tag\"]\n",
    "X_train, X_test, y_train, y_test = train_test_split(X, y, test_size=0.2, random_state=42)"
   ]
  },
  {
   "cell_type": "markdown",
   "id": "c56076d0",
   "metadata": {},
   "source": [
    "#### Vectorize the text data"
   ]
  },
  {
   "cell_type": "code",
   "execution_count": 5,
   "id": "dfc35aa9",
   "metadata": {},
   "outputs": [],
   "source": [
    "vectorizer = CountVectorizer()\n",
    "X_train_counts = vectorizer.fit_transform(X_train)\n",
    "X_test_counts = vectorizer.transform(X_test)"
   ]
  },
  {
   "cell_type": "markdown",
   "id": "8bd92be3",
   "metadata": {},
   "source": [
    "#### Transform the vectorized data using TF-IDF"
   ]
  },
  {
   "cell_type": "code",
   "execution_count": 6,
   "id": "465d5b38",
   "metadata": {},
   "outputs": [],
   "source": [
    "transformer = TfidfTransformer()\n",
    "X_train_tfidf = transformer.fit_transform(X_train_counts)\n",
    "X_test_tfidf = transformer.transform(X_test_counts)"
   ]
  },
  {
   "cell_type": "markdown",
   "id": "1095ce2f",
   "metadata": {},
   "source": [
    "#### Define the models to be trained"
   ]
  },
  {
   "cell_type": "code",
   "execution_count": 7,
   "id": "8a570634",
   "metadata": {},
   "outputs": [],
   "source": [
    "models = {\n",
    "    'Logistic Regression': LogisticRegression(),\n",
    "    'Support Vector Machine': svm.SVC(kernel=\"linear\"),\n",
    "    'Decision Tree': tree.DecisionTreeClassifier(),\n",
    "    'Random Forest': RandomForestClassifier()\n",
    "}"
   ]
  },
  {
   "cell_type": "markdown",
   "id": "95f94a04",
   "metadata": {},
   "source": [
    "#### Function to train and evaluate the models"
   ]
  },
  {
   "cell_type": "code",
   "execution_count": 8,
   "id": "afdcdf30",
   "metadata": {},
   "outputs": [],
   "source": [
    "def run_algorithms(models, x_train, x_test, y_train, y_test):\n",
    "    np.random.seed(42)\n",
    "    scores = {}\n",
    "    for name, model in models.items():\n",
    "        model.fit(x_train, y_train)\n",
    "        scores[name] = model.score(x_test, y_test)\n",
    "    return scores"
   ]
  },
  {
   "cell_type": "markdown",
   "id": "f7f83664",
   "metadata": {},
   "source": [
    "#### Train and evaluate the models"
   ]
  },
  {
   "cell_type": "code",
   "execution_count": 17,
   "id": "0ad7334f",
   "metadata": {},
   "outputs": [
    {
     "data": {
      "text/plain": [
       "{'Logistic Regression': 0.8673469387755102,\n",
       " 'Support Vector Machine': 0.8724489795918368,\n",
       " 'Decision Tree': 0.7244897959183674,\n",
       " 'Random Forest': 0.8469387755102041}"
      ]
     },
     "execution_count": 17,
     "metadata": {},
     "output_type": "execute_result"
    }
   ],
   "source": [
    "scores = run_algorithms(models, X_train_tfidf, X_test_tfidf, y_train, y_test)\n",
    "scores"
   ]
  },
  {
   "cell_type": "markdown",
   "id": "e77714f5",
   "metadata": {},
   "source": [
    "#### Visualizing the accuracy of the algorithms"
   ]
  },
  {
   "cell_type": "code",
   "execution_count": 18,
   "id": "7a68b468",
   "metadata": {},
   "outputs": [],
   "source": [
    "import matplotlib.pyplot as plt\n",
    "\n",
    "# Extract the list of algorithm names and scores\n",
    "algorithms = list(scores.keys())\n",
    "accuracies = list(scores.values())"
   ]
  },
  {
   "cell_type": "code",
   "execution_count": 19,
   "id": "00de781f",
   "metadata": {},
   "outputs": [],
   "source": [
    "# getting the index of the algorithm with highest accuracy\n",
    "max_algorithm = max(scores, key=scores.get)\n",
    "colors = ['grey' for _ in range(len(algorithms))]\n",
    "max_index = algorithms.index(max_algorithm)"
   ]
  },
  {
   "cell_type": "code",
   "execution_count": 20,
   "id": "f7622ac1",
   "metadata": {},
   "outputs": [
    {
     "data": {
      "image/png": "[encoded data removed]",
      "text/plain": [
       "<Figure size 720x432 with 1 Axes>"
      ]
     },
     "metadata": {
      "needs_background": "light"
     },
     "output_type": "display_data"
    }
   ],
   "source": [
    "# Visualizing the accuracy of the algorithms (green shows the algorithm with the highest accuracy)\n",
    "plt.figure(figsize=(10, 6))\n",
    "colors[max_index] = 'green'\n",
    "plt.bar(algorithms, accuracies, width=0.4, color=colors)\n",
    "plt.xticks(algorithms)\n",
    "plt.ylabel('Accuracy')\n",
    "plt.title('Accuracy of Different Algorithms')\n",
    "plt.show()"
   ]
  },
  {
   "cell_type": "code",
   "execution_count": null,
   "id": "0386808b",
   "metadata": {},
   "outputs": [],
   "source": []
  }
 ],
 "metadata": {
  "kernelspec": {
   "display_name": "Python 3 (ipykernel)",
   "language": "python",
   "name": "python3"
  },
  "language_info": {
   "codemirror_mode": {
    "name": "ipython",
    "version": 3
   },
   "file_extension": ".py",
   "mimetype": "text/x-python",
   "name": "python",
   "nbconvert_exporter": "python",
   "pygments_lexer": "ipython3",
   "version": "3.9.11"
  }
 },
 "nbformat": 4,
 "nbformat_minor": 5
}
