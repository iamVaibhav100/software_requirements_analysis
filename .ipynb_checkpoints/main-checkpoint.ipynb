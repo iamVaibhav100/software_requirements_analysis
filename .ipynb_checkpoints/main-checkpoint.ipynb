{
 "cells": [
  {
   "cell_type": "markdown",
   "id": "651f476c",
   "metadata": {},
   "source": [
    "## Classification of functional and non-functional software requirements using the followig algorithms:\n",
    "    1. Logistic Regression\n",
    "    2. Support Vector Machine\n",
    "    3. Decision Tree\n",
    "    4. Random Forest"
   ]
  },
  {
   "cell_type": "markdown",
   "id": "6b962801",
   "metadata": {},
   "source": [
    "#### Importing modules"
   ]
  },
  {
   "cell_type": "code",
   "execution_count": 20,
   "id": "a1e50d05",
   "metadata": {},
   "outputs": [],
   "source": [
    "import csv\n",
    "import pandas as pd\n",
    "import numpy as np\n",
    "from sklearn import svm\n",
    "from sklearn.linear_model import LogisticRegression\n",
    "from sklearn import tree\n",
    "from sklearn.ensemble import RandomForestClassifier\n",
    "from sklearn.model_selection import train_test_split\n",
    "from sklearn.feature_extraction.text import CountVectorizer\n",
    "from sklearn.feature_extraction.text import TfidfTransformer"
   ]
  },
  {
   "cell_type": "markdown",
   "id": "e93b69b5",
   "metadata": {},
   "source": [
    "#### Reading the csv file and tagging the functional requirements with 1 and non-functional with 0 value"
   ]
  },
  {
   "cell_type": "code",
   "execution_count": 21,
   "id": "eb9149b0",
   "metadata": {},
   "outputs": [
    {
     "data": {
      "text/html": [
       "<div>\n",
       "<style scoped>\n",
       "    .dataframe tbody tr th:only-of-type {\n",
       "        vertical-align: middle;\n",
       "    }\n",
       "\n",
       "    .dataframe tbody tr th {\n",
       "        vertical-align: top;\n",
       "    }\n",
       "\n",
       "    .dataframe thead th {\n",
       "        text-align: right;\n",
       "    }\n",
       "</style>\n",
       "<table border=\"1\" class=\"dataframe\">\n",
       "  <thead>\n",
       "    <tr style=\"text-align: right;\">\n",
       "      <th></th>\n",
       "      <th>Type</th>\n",
       "      <th>Requirement</th>\n",
       "      <th>Tag</th>\n",
       "    </tr>\n",
       "  </thead>\n",
       "  <tbody>\n",
       "    <tr>\n",
       "      <th>551</th>\n",
       "      <td>PE</td>\n",
       "      <td>The product interface should be fast. The resp...</td>\n",
       "      <td>0</td>\n",
       "    </tr>\n",
       "    <tr>\n",
       "      <th>552</th>\n",
       "      <td>F</td>\n",
       "      <td>The system will use the stored e-mail addresse...</td>\n",
       "      <td>1</td>\n",
       "    </tr>\n",
       "    <tr>\n",
       "      <th>553</th>\n",
       "      <td>F</td>\n",
       "      <td>The system will notify affected parties for r...</td>\n",
       "      <td>1</td>\n",
       "    </tr>\n",
       "    <tr>\n",
       "      <th>554</th>\n",
       "      <td>F</td>\n",
       "      <td>The system will notify affected parties when ...</td>\n",
       "      <td>1</td>\n",
       "    </tr>\n",
       "    <tr>\n",
       "      <th>555</th>\n",
       "      <td>F</td>\n",
       "      <td>The system will notify affected parties when ...</td>\n",
       "      <td>1</td>\n",
       "    </tr>\n",
       "  </tbody>\n",
       "</table>\n",
       "</div>"
      ],
      "text/plain": [
       "    Type                                        Requirement  Tag\n",
       "551   PE  The product interface should be fast. The resp...    0\n",
       "552    F  The system will use the stored e-mail addresse...    1\n",
       "553    F   The system will notify affected parties for r...    1\n",
       "554    F   The system will notify affected parties when ...    1\n",
       "555    F   The system will notify affected parties when ...    1"
      ]
     },
     "execution_count": 21,
     "metadata": {},
     "output_type": "execute_result"
    }
   ],
   "source": [
    "df = pd.read_csv(\"nfr.csv\")\n",
    "df = df.dropna(axis=1, how='any')\n",
    "df[\"Tag\"] = df.apply(lambda x: 1 if x[\"Type\"] == \"F\" else 0, axis=1)\n",
    "df.tail()"
   ]
  },
  {
   "cell_type": "markdown",
   "id": "4365e728",
   "metadata": {},
   "source": [
    "#### Splitting the data into training and testing sections"
   ]
  },
  {
   "cell_type": "code",
   "execution_count": 22,
   "id": "0a581dc5",
   "metadata": {},
   "outputs": [],
   "source": [
    "X = df[\"Requirement\"]\n",
    "y = df[\"Tag\"]\n",
    "X_train, X_test, y_train, y_test = train_test_split(X, y, test_size=0.2, random_state=42)"
   ]
  },
  {
   "cell_type": "markdown",
   "id": "24e07c3b",
   "metadata": {},
   "source": [
    "#### Creating bag-of-words from the training data set (creating a vector form of the data)"
   ]
  },
  {
   "cell_type": "code",
   "execution_count": 23,
   "id": "4b1a9ea6",
   "metadata": {},
   "outputs": [],
   "source": [
    "vectorizer = CountVectorizer()\n",
    "X_train_counts = vectorizer.fit_transform(X_train)\n",
    "X_test_counts = vectorizer.transform(X_test)"
   ]
  },
  {
   "cell_type": "markdown",
   "id": "6ccb8393",
   "metadata": {},
   "source": [
    "#### Providing frequency and weightage to the bag-of-words"
   ]
  },
  {
   "cell_type": "code",
   "execution_count": 24,
   "id": "aa34038f",
   "metadata": {},
   "outputs": [],
   "source": [
    "transformer = TfidfTransformer()\n",
    "X_train_tfidf = transformer.fit_transform(X_train_counts)\n",
    "X_test_tfidf = transformer.transform(X_test_counts)"
   ]
  },
  {
   "cell_type": "markdown",
   "id": "a4237012",
   "metadata": {},
   "source": [
    "#### Grouping all models in a dictionary"
   ]
  },
  {
   "cell_type": "code",
   "execution_count": 25,
   "id": "276ddbbe",
   "metadata": {},
   "outputs": [],
   "source": [
    "models = {\n",
    "    'Logistic Regression': LogisticRegression(),\n",
    "    'Support Vector Machine': svm.SVC(kernel=\"linear\"),\n",
    "    'Decision Tree': tree.DecisionTreeClassifier(),\n",
    "    'Random Forest': RandomForestClassifier()\n",
    "}"
   ]
  },
  {
   "cell_type": "markdown",
   "id": "d75813e9",
   "metadata": {},
   "source": [
    "#### Function that fits and evaluates given machine learning models and returns the scores"
   ]
  },
  {
   "cell_type": "code",
   "execution_count": 26,
   "id": "7c0f5389",
   "metadata": {},
   "outputs": [],
   "source": [
    "def run_algorithms(models, x_train, x_test, y_train, y_test):\n",
    "    np.random.seed(42)\n",
    "    scores = {}\n",
    "    for name, model in models.items():\n",
    "        model.fit(x_train, y_train)\n",
    "        scores[name] = model.score(x_test, y_test)\n",
    "    return scores"
   ]
  },
  {
   "cell_type": "code",
   "execution_count": 27,
   "id": "e1f1c13f",
   "metadata": {},
   "outputs": [
    {
     "data": {
      "text/plain": [
       "{'Logistic Regression': 0.8571428571428571,\n",
       " 'Support Vector Machine': 0.9107142857142857,\n",
       " 'Decision Tree': 0.7767857142857143,\n",
       " 'Random Forest': 0.7857142857142857}"
      ]
     },
     "execution_count": 27,
     "metadata": {},
     "output_type": "execute_result"
    }
   ],
   "source": [
    "scores = run_algorithms(models, X_train_tfidf, X_test_tfidf, y_train, y_test)\n",
    "scores"
   ]
  },
  {
   "cell_type": "markdown",
   "id": "2445a28b",
   "metadata": {},
   "source": [
    "### Visualizing the accuracy of the four algorithms"
   ]
  },
  {
   "cell_type": "code",
   "execution_count": 28,
   "id": "a0c58ac2",
   "metadata": {},
   "outputs": [],
   "source": [
    "import matplotlib.pyplot as plt\n",
    "\n",
    "# Extract the list of algorithm names and scores\n",
    "algorithms = list(scores.keys())\n",
    "accuracies = list(scores.values())"
   ]
  },
  {
   "cell_type": "code",
   "execution_count": 29,
   "id": "30bae114",
   "metadata": {},
   "outputs": [],
   "source": [
    "# getting the index of the algorithm with highest accuracy\n",
    "max_algorithm = max(scores, key=scores.get)\n",
    "colors = ['grey' for _ in range(len(algorithms))]\n",
    "max_index = algorithms.index(max_algorithm)"
   ]
  },
  {
   "cell_type": "code",
   "execution_count": 30,
   "id": "1984fac6",
   "metadata": {},
   "outputs": [
    {
     "data": {
      "image/png": "[encoded data removed]",
      "text/plain": [
       "<Figure size 720x432 with 1 Axes>"
      ]
     },
     "metadata": {
      "needs_background": "light"
     },
     "output_type": "display_data"
    }
   ],
   "source": [
    "# Visualizing the accuracy of the algorithms (green shows the algorithm with the highest accuracy)\n",
    "plt.figure(figsize=(10, 6))\n",
    "colors[max_index] = 'green'\n",
    "plt.bar(algorithms, accuracies, width=0.4, color=colors)\n",
    "plt.xticks(algorithms)\n",
    "plt.ylabel('Accuracy')\n",
    "plt.title('Accuracy of Different Algorithms')\n",
    "plt.show()"
   ]
  },
  {
   "cell_type": "code",
   "execution_count": null,
   "id": "e28d1f46",
   "metadata": {},
   "outputs": [],
   "source": []
  }
 ],
 "metadata": {
  "kernelspec": {
   "display_name": "Python 3 (ipykernel)",
   "language": "python",
   "name": "python3"
  },
  "language_info": {
   "codemirror_mode": {
    "name": "ipython",
    "version": 3
   },
   "file_extension": ".py",
   "mimetype": "text/x-python",
   "name": "python",
   "nbconvert_exporter": "python",
   "pygments_lexer": "ipython3",
   "version": "3.9.11"
  }
 },
 "nbformat": 4,
 "nbformat_minor": 5
}
