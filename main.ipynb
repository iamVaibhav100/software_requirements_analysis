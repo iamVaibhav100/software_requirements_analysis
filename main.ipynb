{
 "cells": [
  {
   "cell_type": "markdown",
   "id": "651f476c",
   "metadata": {},
   "source": [
    "## Classification of functional and non-functional software requirements using the followig algorithms:\n",
    "    1. Logistic Regression\n",
    "    2. Support Vector Machine\n",
    "    3. Decision Tree\n",
    "    4. Random Forest"
   ]
  },
  {
   "cell_type": "markdown",
   "id": "6b962801",
   "metadata": {},
   "source": [
    "#### Importing modules"
   ]
  },
  {
   "cell_type": "code",
   "execution_count": 1,
   "id": "a1e50d05",
   "metadata": {},
   "outputs": [],
   "source": [
    "import csv\n",
    "import pandas as pd\n",
    "import numpy as np\n",
    "from sklearn import svm\n",
    "from sklearn.linear_model import LogisticRegression\n",
    "from sklearn import tree\n",
    "from sklearn.ensemble import RandomForestClassifier\n",
    "from sklearn.model_selection import train_test_split\n",
    "from sklearn.feature_extraction.text import CountVectorizer\n",
    "from sklearn.feature_extraction.text import TfidfTransformer"
   ]
  },
  {
   "cell_type": "markdown",
   "id": "e93b69b5",
   "metadata": {},
   "source": [
    "#### Reading the csv file and tagging the functional requirements with 1 and non-functional with 0 value"
   ]
  },
  {
   "cell_type": "code",
   "execution_count": 2,
   "id": "eb9149b0",
   "metadata": {},
   "outputs": [
    {
     "data": {
      "text/html": [
       "<div>\n",
       "<style scoped>\n",
       "    .dataframe tbody tr th:only-of-type {\n",
       "        vertical-align: middle;\n",
       "    }\n",
       "\n",
       "    .dataframe tbody tr th {\n",
       "        vertical-align: top;\n",
       "    }\n",
       "\n",
       "    .dataframe thead th {\n",
       "        text-align: right;\n",
       "    }\n",
       "</style>\n",
       "<table border=\"1\" class=\"dataframe\">\n",
       "  <thead>\n",
       "    <tr style=\"text-align: right;\">\n",
       "      <th></th>\n",
       "      <th>Type</th>\n",
       "      <th>Requirement</th>\n",
       "      <th>Tag</th>\n",
       "    </tr>\n",
       "  </thead>\n",
       "  <tbody>\n",
       "    <tr>\n",
       "      <th>551</th>\n",
       "      <td>PE</td>\n",
       "      <td>The product interface should be fast. The resp...</td>\n",
       "      <td>0</td>\n",
       "    </tr>\n",
       "    <tr>\n",
       "      <th>552</th>\n",
       "      <td>F</td>\n",
       "      <td>The system will use the stored e-mail addresse...</td>\n",
       "      <td>1</td>\n",
       "    </tr>\n",
       "    <tr>\n",
       "      <th>553</th>\n",
       "      <td>F</td>\n",
       "      <td>The system will notify affected parties for r...</td>\n",
       "      <td>1</td>\n",
       "    </tr>\n",
       "    <tr>\n",
       "      <th>554</th>\n",
       "      <td>F</td>\n",
       "      <td>The system will notify affected parties when ...</td>\n",
       "      <td>1</td>\n",
       "    </tr>\n",
       "    <tr>\n",
       "      <th>555</th>\n",
       "      <td>F</td>\n",
       "      <td>The system will notify affected parties when ...</td>\n",
       "      <td>1</td>\n",
       "    </tr>\n",
       "  </tbody>\n",
       "</table>\n",
       "</div>"
      ],
      "text/plain": [
       "    Type                                        Requirement  Tag\n",
       "551   PE  The product interface should be fast. The resp...    0\n",
       "552    F  The system will use the stored e-mail addresse...    1\n",
       "553    F   The system will notify affected parties for r...    1\n",
       "554    F   The system will notify affected parties when ...    1\n",
       "555    F   The system will notify affected parties when ...    1"
      ]
     },
     "execution_count": 2,
     "metadata": {},
     "output_type": "execute_result"
    }
   ],
   "source": [
    "df = pd.read_csv(\"nfr.csv\")\n",
    "df = df.dropna(axis=1, how='any')\n",
    "df[\"Tag\"] = df.apply(lambda x: 1 if x[\"Type\"] == \"F\" else 0, axis=1)\n",
    "df.tail()"
   ]
  },
  {
   "cell_type": "code",
   "execution_count": 3,
   "id": "4b72ceff",
   "metadata": {},
   "outputs": [
    {
     "data": {
      "text/html": [
       "<div>\n",
       "<style scoped>\n",
       "    .dataframe tbody tr th:only-of-type {\n",
       "        vertical-align: middle;\n",
       "    }\n",
       "\n",
       "    .dataframe tbody tr th {\n",
       "        vertical-align: top;\n",
       "    }\n",
       "\n",
       "    .dataframe thead th {\n",
       "        text-align: right;\n",
       "    }\n",
       "</style>\n",
       "<table border=\"1\" class=\"dataframe\">\n",
       "  <thead>\n",
       "    <tr style=\"text-align: right;\">\n",
       "      <th></th>\n",
       "      <th>RequirementText</th>\n",
       "      <th>Type</th>\n",
       "      <th>Tag</th>\n",
       "    </tr>\n",
       "  </thead>\n",
       "  <tbody>\n",
       "    <tr>\n",
       "      <th>417</th>\n",
       "      <td>There will be a designated phone number that u...</td>\n",
       "      <td>FR</td>\n",
       "      <td>1</td>\n",
       "    </tr>\n",
       "    <tr>\n",
       "      <th>418</th>\n",
       "      <td>Texts sent to that number will be sent to the ...</td>\n",
       "      <td>FR</td>\n",
       "      <td>1</td>\n",
       "    </tr>\n",
       "    <tr>\n",
       "      <th>419</th>\n",
       "      <td>If a question is not understood by our API, th...</td>\n",
       "      <td>FR</td>\n",
       "      <td>1</td>\n",
       "    </tr>\n",
       "    <tr>\n",
       "      <th>420</th>\n",
       "      <td>Upon the USB being plugged in the system shall...</td>\n",
       "      <td>FR</td>\n",
       "      <td>1</td>\n",
       "    </tr>\n",
       "    <tr>\n",
       "      <th>421</th>\n",
       "      <td>The system shall be able to handle 1000 custom...</td>\n",
       "      <td>FR</td>\n",
       "      <td>1</td>\n",
       "    </tr>\n",
       "  </tbody>\n",
       "</table>\n",
       "</div>"
      ],
      "text/plain": [
       "                                       RequirementText Type  Tag\n",
       "417  There will be a designated phone number that u...   FR    1\n",
       "418  Texts sent to that number will be sent to the ...   FR    1\n",
       "419  If a question is not understood by our API, th...   FR    1\n",
       "420  Upon the USB being plugged in the system shall...   FR    1\n",
       "421  The system shall be able to handle 1000 custom...   FR    1"
      ]
     },
     "execution_count": 3,
     "metadata": {},
     "output_type": "execute_result"
    }
   ],
   "source": [
    "df_ext = pd.read_csv(\"nfr_ext.csv\")\n",
    "df_ext = df_ext.dropna(axis=1, how='any')\n",
    "df_ext[\"Tag\"] = df_ext.apply(lambda x: 1 if x[\"Type\"] == \"FR\" else 0, axis=1)\n",
    "df_ext.tail()"
   ]
  },
  {
   "cell_type": "markdown",
   "id": "4365e728",
   "metadata": {},
   "source": [
    "#### Splitting the data into training and testing sections"
   ]
  },
  {
   "cell_type": "code",
   "execution_count": 4,
   "id": "0a581dc5",
   "metadata": {},
   "outputs": [],
   "source": [
    "X = df[\"Requirement\"]\n",
    "y = df[\"Tag\"]\n",
    "X_train, X_test, y_train, y_test = train_test_split(X, y, test_size=0.2, random_state=42)"
   ]
  },
  {
   "cell_type": "code",
   "execution_count": 5,
   "id": "fa00f742",
   "metadata": {},
   "outputs": [],
   "source": [
    "X_ext = df_ext[\"RequirementText\"]\n",
    "y_ext = df_ext[\"Tag\"]\n",
    "X_train_ext, X_test_ext, y_train_ext, y_test_ext = train_test_split(X_ext, y_ext, test_size=0.2, random_state=42)"
   ]
  },
  {
   "cell_type": "markdown",
   "id": "24e07c3b",
   "metadata": {},
   "source": [
    "#### Creating bag-of-words from the training data set (creating a vector form of the data)"
   ]
  },
  {
   "cell_type": "code",
   "execution_count": 6,
   "id": "4b1a9ea6",
   "metadata": {},
   "outputs": [],
   "source": [
    "vectorizer = CountVectorizer()\n",
    "X_train_counts = vectorizer.fit_transform(X_train)\n",
    "X_test_counts = vectorizer.transform(X_test)"
   ]
  },
  {
   "cell_type": "code",
   "execution_count": 7,
   "id": "a5e6d2b7",
   "metadata": {},
   "outputs": [],
   "source": [
    "vectorizer = CountVectorizer()\n",
    "X_train_ext_counts = vectorizer.fit_transform(X_train_ext)\n",
    "X_test_ext_counts = vectorizer.transform(X_test_ext)"
   ]
  },
  {
   "cell_type": "markdown",
   "id": "6ccb8393",
   "metadata": {},
   "source": [
    "#### Providing frequency and weightage to the bag-of-words"
   ]
  },
  {
   "cell_type": "code",
   "execution_count": 8,
   "id": "aa34038f",
   "metadata": {},
   "outputs": [],
   "source": [
    "transformer = TfidfTransformer()\n",
    "X_train_tfidf = transformer.fit_transform(X_train_counts)\n",
    "X_test_tfidf = transformer.transform(X_test_counts)"
   ]
  },
  {
   "cell_type": "code",
   "execution_count": 9,
   "id": "02886342",
   "metadata": {},
   "outputs": [],
   "source": [
    "transformer = TfidfTransformer()\n",
    "X_train_ext_tfidf = transformer.fit_transform(X_train_ext_counts)\n",
    "X_test_ext_tfidf = transformer.transform(X_test_ext_counts)"
   ]
  },
  {
   "cell_type": "markdown",
   "id": "a4237012",
   "metadata": {},
   "source": [
    "#### Grouping all models in a dictionary"
   ]
  },
  {
   "cell_type": "code",
   "execution_count": 10,
   "id": "276ddbbe",
   "metadata": {},
   "outputs": [],
   "source": [
    "models = {\n",
    "    'Logistic Regression': LogisticRegression(),\n",
    "    'Support Vector Machine': svm.SVC(kernel=\"linear\"),\n",
    "    'Decision Tree': tree.DecisionTreeClassifier(),\n",
    "    'Random Forest': RandomForestClassifier()\n",
    "}"
   ]
  },
  {
   "cell_type": "markdown",
   "id": "d75813e9",
   "metadata": {},
   "source": [
    "#### Function that fits and evaluates given machine learning models and returns the scores"
   ]
  },
  {
   "cell_type": "code",
   "execution_count": 11,
   "id": "7c0f5389",
   "metadata": {},
   "outputs": [],
   "source": [
    "def run_algorithms(models, x_train, x_test, y_train, y_test):\n",
    "    np.random.seed(42)\n",
    "    scores = {}\n",
    "    for name, model in models.items():\n",
    "        model.fit(x_train, y_train)\n",
    "        scores[name] = model.score(x_test, y_test)\n",
    "    return scores"
   ]
  },
  {
   "cell_type": "code",
   "execution_count": 12,
   "id": "e1f1c13f",
   "metadata": {},
   "outputs": [
    {
     "data": {
      "text/plain": [
       "{'Logistic Regression': 0.8571428571428571,\n",
       " 'Support Vector Machine': 0.9107142857142857,\n",
       " 'Decision Tree': 0.7767857142857143,\n",
       " 'Random Forest': 0.7857142857142857}"
      ]
     },
     "execution_count": 12,
     "metadata": {},
     "output_type": "execute_result"
    }
   ],
   "source": [
    "scores = run_algorithms(models, X_train_tfidf, X_test_tfidf, y_train, y_test)\n",
    "scores"
   ]
  },
  {
   "cell_type": "code",
   "execution_count": 13,
   "id": "6d2cd568",
   "metadata": {},
   "outputs": [
    {
     "data": {
      "text/plain": [
       "{'Logistic Regression': 0.8117647058823529,\n",
       " 'Support Vector Machine': 0.8705882352941177,\n",
       " 'Decision Tree': 0.7647058823529411,\n",
       " 'Random Forest': 0.8352941176470589}"
      ]
     },
     "execution_count": 13,
     "metadata": {},
     "output_type": "execute_result"
    }
   ],
   "source": [
    "scores_ext = run_algorithms(models, X_train_ext_tfidf, X_test_ext_tfidf, y_train_ext, y_test_ext)\n",
    "scores_ext"
   ]
  },
  {
   "cell_type": "markdown",
   "id": "2445a28b",
   "metadata": {},
   "source": [
    "### Visualizing the accuracy of the four algorithms"
   ]
  },
  {
   "cell_type": "code",
   "execution_count": 14,
   "id": "a0c58ac2",
   "metadata": {},
   "outputs": [],
   "source": [
    "import matplotlib.pyplot as plt\n",
    "\n",
    "# Extract the list of algorithm names and scores\n",
    "algorithms = list(scores.keys())\n",
    "accuracies = list(scores.values())\n",
    "accuracies_ext = list(scores_ext.values())"
   ]
  },
  {
   "cell_type": "code",
   "execution_count": 15,
   "id": "30bae114",
   "metadata": {},
   "outputs": [],
   "source": [
    "# getting the index of the algorithm with highest accuracy\n",
    "max_algorithm = max(scores, key=scores.get)\n",
    "max_algorithm_ext = max(scores_ext, key=scores_ext.get)\n",
    "colors = ['grey' for _ in range(len(algorithms))]\n",
    "max_index = algorithms.index(max_algorithm)\n",
    "max_index_ext = algorithms.index(max_algorithm_ext)"
   ]
  },
  {
   "cell_type": "code",
   "execution_count": 20,
   "id": "fd719689",
   "metadata": {},
   "outputs": [
    {
     "data": {
      "image/png": "[encoded data removed]",
      "text/plain": [
       "<Figure size 864x432 with 2 Axes>"
      ]
     },
     "metadata": {
      "needs_background": "light"
     },
     "output_type": "display_data"
    }
   ],
   "source": [
    "# Create a figure with two subplots\n",
    "fig, (ax1, ax2) = plt.subplots(1, 2, figsize=(12, 6))\n",
    "plt.subplots_adjust(wspace=0.5)\n",
    "\n",
    "# Set the bar width\n",
    "width = 0.4\n",
    "\n",
    "# Plot the first bar graph on the first subplot\n",
    "ax1.bar(algorithms, accuracies, width=width, color=colors)\n",
    "\n",
    "# Set the x-axis labels for the first subplot\n",
    "ax1.set_xticks(algorithms)\n",
    "ax1.set_xticklabels(algorithms, rotation=45)\n",
    "\n",
    "# Set the y-axis label for the first subplot\n",
    "ax1.set_ylabel('Accuracy')\n",
    "\n",
    "# Set the title for the first subplot\n",
    "ax1.set_title('Accuracy of Algorithms - Dataset 1')\n",
    "\n",
    "# Plot the second bar graph on the second subplot\n",
    "ax2.bar(algorithms, accuracies_ext, width=width, color=colors)\n",
    "\n",
    "# Set the x-axis labels for the second subplot\n",
    "ax2.set_xticks(algorithms)\n",
    "ax2.set_xticklabels(algorithms, rotation=45)\n",
    "\n",
    "# Set the y-axis label for the second subplot\n",
    "ax2.set_ylabel('Accuracy')\n",
    "\n",
    "# Set the title for the second subplot\n",
    "ax2.set_title('Accuracy of Algorithms - Dataset 2')\n",
    "\n",
    "# Show the plot\n",
    "plt.show()\n"
   ]
  },
  {
   "cell_type": "code",
   "execution_count": null,
   "id": "80d63149",
   "metadata": {},
   "outputs": [],
   "source": []
  }
 ],
 "metadata": {
  "kernelspec": {
   "display_name": "Python 3 (ipykernel)",
   "language": "python",
   "name": "python3"
  },
  "language_info": {
   "codemirror_mode": {
    "name": "ipython",
    "version": 3
   },
   "file_extension": ".py",
   "mimetype": "text/x-python",
   "name": "python",
   "nbconvert_exporter": "python",
   "pygments_lexer": "ipython3",
   "version": "3.9.11"
  }
 },
 "nbformat": 4,
 "nbformat_minor": 5
}
