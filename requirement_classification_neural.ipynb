{
 "cells": [
  {
   "cell_type": "markdown",
   "id": "32fc7734",
   "metadata": {},
   "source": [
    "# Software requirement binary classification\n",
    "\n",
    "Software requirements are classified into functional and non-functional requirements using TensorFlow and neural networks"
   ]
  },
  {
   "cell_type": "markdown",
   "id": "e1150725",
   "metadata": {},
   "source": [
    "#### importing libraries"
   ]
  },
  {
   "cell_type": "code",
   "execution_count": 1,
   "id": "a3c51312",
   "metadata": {},
   "outputs": [],
   "source": [
    "import csv\n",
    "import pandas as pd\n",
    "import numpy as np\n",
    "import tensorflow as tf\n",
    "from sklearn.model_selection import train_test_split\n",
    "from sklearn.feature_extraction.text import CountVectorizer\n",
    "from sklearn.feature_extraction.text import TfidfTransformer"
   ]
  },
  {
   "cell_type": "code",
   "execution_count": 2,
   "id": "b0ac8a72",
   "metadata": {},
   "outputs": [],
   "source": [
    "# Read the CSV file and drop any columns with missing values\n",
    "df = pd.read_csv(\"nfr.csv\")\n",
    "df = df.dropna(axis=1, how='any')"
   ]
  },
  {
   "cell_type": "code",
   "execution_count": 3,
   "id": "ba248a23",
   "metadata": {},
   "outputs": [
    {
     "data": {
      "text/html": [
       "<div>\n",
       "<style scoped>\n",
       "    .dataframe tbody tr th:only-of-type {\n",
       "        vertical-align: middle;\n",
       "    }\n",
       "\n",
       "    .dataframe tbody tr th {\n",
       "        vertical-align: top;\n",
       "    }\n",
       "\n",
       "    .dataframe thead th {\n",
       "        text-align: right;\n",
       "    }\n",
       "</style>\n",
       "<table border=\"1\" class=\"dataframe\">\n",
       "  <thead>\n",
       "    <tr style=\"text-align: right;\">\n",
       "      <th></th>\n",
       "      <th>Type</th>\n",
       "      <th>Requirement</th>\n",
       "      <th>Tag</th>\n",
       "    </tr>\n",
       "  </thead>\n",
       "  <tbody>\n",
       "    <tr>\n",
       "      <th>0</th>\n",
       "      <td>PE</td>\n",
       "      <td>The system shall refresh the display every 60 ...</td>\n",
       "      <td>0</td>\n",
       "    </tr>\n",
       "    <tr>\n",
       "      <th>1</th>\n",
       "      <td>LF</td>\n",
       "      <td>The application shall match the color of the s...</td>\n",
       "      <td>0</td>\n",
       "    </tr>\n",
       "    <tr>\n",
       "      <th>2</th>\n",
       "      <td>US</td>\n",
       "      <td>If projected  the data must be readable.  On ...</td>\n",
       "      <td>0</td>\n",
       "    </tr>\n",
       "    <tr>\n",
       "      <th>3</th>\n",
       "      <td>A</td>\n",
       "      <td>The product shall be available during normal ...</td>\n",
       "      <td>0</td>\n",
       "    </tr>\n",
       "    <tr>\n",
       "      <th>4</th>\n",
       "      <td>US</td>\n",
       "      <td>If projected  the data must be understandable...</td>\n",
       "      <td>0</td>\n",
       "    </tr>\n",
       "  </tbody>\n",
       "</table>\n",
       "</div>"
      ],
      "text/plain": [
       "  Type                                        Requirement  Tag\n",
       "0   PE  The system shall refresh the display every 60 ...    0\n",
       "1   LF  The application shall match the color of the s...    0\n",
       "2   US   If projected  the data must be readable.  On ...    0\n",
       "3    A   The product shall be available during normal ...    0\n",
       "4   US   If projected  the data must be understandable...    0"
      ]
     },
     "execution_count": 3,
     "metadata": {},
     "output_type": "execute_result"
    }
   ],
   "source": [
    "# Create a new column called \"Tag\" that indicates whether a requirement is functional (1) or non-functional (0)\n",
    "df[\"Tag\"] = df.apply(lambda x: 1 if x[\"Type\"] == \"F\" else 0, axis=1)\n",
    "df.head()"
   ]
  },
  {
   "cell_type": "code",
   "execution_count": 4,
   "id": "38852112",
   "metadata": {},
   "outputs": [],
   "source": [
    "# Split the data into training and test sets\n",
    "X = df[\"Requirement\"]\n",
    "y = df[\"Tag\"]\n",
    "X_train, X_test, y_train, y_test = train_test_split(X, y, test_size=0.2, random_state=42)"
   ]
  },
  {
   "cell_type": "code",
   "execution_count": 5,
   "id": "7f30fd00",
   "metadata": {},
   "outputs": [],
   "source": [
    "# Vectorize the training and test data using count vectorization\n",
    "vectorizer = CountVectorizer()\n",
    "X_train_counts = vectorizer.fit_transform(X_train)\n",
    "X_test_counts = vectorizer.transform(X_test)"
   ]
  },
  {
   "cell_type": "code",
   "execution_count": 6,
   "id": "5d1ac93b",
   "metadata": {},
   "outputs": [],
   "source": [
    "# Transform the vectorized data using TF-IDF\n",
    "transformer = TfidfTransformer()\n",
    "X_train_tfidf = transformer.fit_transform(X_train_counts)\n",
    "X_test_tfidf = transformer.transform(X_test_counts)"
   ]
  },
  {
   "cell_type": "code",
   "execution_count": 7,
   "id": "fc800f3a",
   "metadata": {},
   "outputs": [],
   "source": [
    "# Convert the transformed data to numpy arrays\n",
    "X_train_tfidf_array = X_train_tfidf.toarray()\n",
    "X_test_tfidf_array = X_test_tfidf.toarray()\n",
    "y_train_array = y_train.to_numpy()\n",
    "y_test_array = y_test.to_numpy()"
   ]
  },
  {
   "cell_type": "code",
   "execution_count": 8,
   "id": "0bc1ef58",
   "metadata": {},
   "outputs": [],
   "source": [
    "# Build the neural network model\n",
    "model = tf.keras.Sequential()\n",
    "model.add(tf.keras.layers.Dense(units=64, activation='relu', input_shape=(X_train_tfidf_array.shape[1],)))\n",
    "model.add(tf.keras.layers.Dropout(0.5))\n",
    "model.add(tf.keras.layers.Dense(units=64, activation='relu'))\n",
    "model.add(tf.keras.layers.Dropout(0.5))\n",
    "model.add(tf.keras.layers.Dense(units=1, activation='sigmoid'))"
   ]
  },
  {
   "cell_type": "code",
   "execution_count": 9,
   "id": "cac27946",
   "metadata": {},
   "outputs": [],
   "source": [
    "# Compile the model\n",
    "model.compile(loss='binary_crossentropy', optimizer='adam', metrics=['accuracy'])"
   ]
  },
  {
   "cell_type": "code",
   "execution_count": 11,
   "id": "0e7d7cb1",
   "metadata": {},
   "outputs": [
    {
     "name": "stdout",
     "output_type": "stream",
     "text": [
      "Epoch 1/5\n",
      "14/14 [==============================] - 0s 2ms/step - loss: 0.4759 - accuracy: 0.6261\n",
      "Epoch 2/5\n",
      "14/14 [==============================] - 0s 3ms/step - loss: 0.4246 - accuracy: 0.6847\n",
      "Epoch 3/5\n",
      "14/14 [==============================] - 0s 2ms/step - loss: 0.3626 - accuracy: 0.8198\n",
      "Epoch 4/5\n",
      "14/14 [==============================] - 0s 2ms/step - loss: 0.3157 - accuracy: 0.9167\n",
      "Epoch 5/5\n",
      "14/14 [==============================] - 0s 2ms/step - loss: 0.2621 - accuracy: 0.9662\n"
     ]
    }
   ],
   "source": [
    "# Train the model\n",
    "model.fit(X_train_tfidf_array, y_train_array, epochs=5, batch_size=32);"
   ]
  },
  {
   "cell_type": "code",
   "execution_count": 12,
   "id": "3623628c",
   "metadata": {},
   "outputs": [
    {
     "name": "stdout",
     "output_type": "stream",
     "text": [
      "4/4 - 0s - loss: 0.3650 - accuracy: 0.8571 - 158ms/epoch - 40ms/step\n",
      "Test loss: 0.3649613559246063\n",
      "Test accuracy: 0.8571428656578064\n"
     ]
    }
   ],
   "source": [
    "# Evaluate the model on the test data\n",
    "scores = model.evaluate(X_test_tfidf_array, y_test_array, verbose=2)\n",
    "print(\"Test loss:\", scores[0])\n",
    "print(\"Test accuracy:\", scores[1])"
   ]
  },
  {
   "cell_type": "code",
   "execution_count": null,
   "id": "ddb7487c",
   "metadata": {},
   "outputs": [],
   "source": []
  }
 ],
 "metadata": {
  "kernelspec": {
   "display_name": "Python 3 (ipykernel)",
   "language": "python",
   "name": "python3"
  },
  "language_info": {
   "codemirror_mode": {
    "name": "ipython",
    "version": 3
   },
   "file_extension": ".py",
   "mimetype": "text/x-python",
   "name": "python",
   "nbconvert_exporter": "python",
   "pygments_lexer": "ipython3",
   "version": "3.9.11"
  }
 },
 "nbformat": 4,
 "nbformat_minor": 5
}
